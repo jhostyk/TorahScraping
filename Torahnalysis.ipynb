{
 "cells": [
  {
   "cell_type": "markdown",
   "metadata": {},
   "source": [
    "# Word ladder\n",
    "\n",
    "## Will Shortz: https://www.npr.org/2020/04/19/837909831/sunday-puzzle-all-about-u\n",
    "### Make a word ladder.\n",
    "### 2020-4-21\n",
    "### Joseph Hostyk, Gundi Povysil, and Xinchen Wang"
   ]
  },
  {
   "cell_type": "code",
   "execution_count": 6,
   "metadata": {},
   "outputs": [],
   "source": [
    "import csv\n",
    "from IPython.display import display, clear_output\n",
    "import os"
   ]
  },
  {
   "cell_type": "code",
   "execution_count": 7,
   "metadata": {},
   "outputs": [],
   "source": [
    "alphabet = [\"a\", \"b\", \"c\", \"d\", \"e\", \"f\", \"g\", \"h\", \"i\", \"j\", \"k\", \"l\", \"m\", \"n\", \"o\", \"p\", \"q\", \"r\", \"s\", \"t\", \"u\", \"v\", \"w\", \"x\", \"y\", \"z\"]"
   ]
  },
  {
   "cell_type": "code",
   "execution_count": 8,
   "metadata": {},
   "outputs": [
    {
     "name": "stdout",
     "output_type": "stream",
     "text": [
      "There are 10230 words of size 5.\n"
     ]
    }
   ],
   "source": [
    "startWord = \"large\"\n",
    "endWord = \"small\"\n",
    "\n",
    "wordSize = len(startWord)\n",
    "assert (len(startWord) == len(endWord))\n",
    "\n",
    "dictionaryFilePath = \"/usr/share/dict/words\"\n",
    "reader = csv.reader(open(dictionaryFilePath))\n",
    "\n",
    "dictionaryOfNletterWords = [i[0] for i in reader if len(i[0]) == wordSize]\n",
    "print (\"There are {} words of size {}.\".format(len(dictionaryOfNletterWords), wordSize))\n"
   ]
  },
  {
   "cell_type": "code",
   "execution_count": 9,
   "metadata": {},
   "outputs": [
    {
     "name": "stdout",
     "output_type": "stream",
     "text": [
      "File exists. Reading...\n",
      "Done.\n"
     ]
    }
   ],
   "source": [
    "### This section does pre-processing.\n",
    "### Warning! This section writes a file to your computer. Just letting you know.\n",
    "\n",
    "### For a given word, find all of its one-letter shifts that are in the dictionary.\n",
    "def getAllOneLetterChanges(word, dictionary):\n",
    "\n",
    "    oneLetterChanges = set()\n",
    "    for change in alphabet:\n",
    "\n",
    "        for i in range(5):\n",
    "\n",
    "            copyWord = [letter for letter in word]\n",
    "            copyWord[i] = change\n",
    "            copyWord = \"\".join(copyWord)\n",
    "            if copyWord in dictionary and copyWord != word:\n",
    "\n",
    "                oneLetterChanges.add(copyWord)\n",
    "\n",
    "    return oneLetterChanges\n",
    "\n",
    "\n",
    "### For all words, save their one-letter shifts.\n",
    "### (Finding the edges in the graph.)\n",
    "\n",
    "wordsToTheirChanges = {}\n",
    "pathToWordChangesFile = \"./WordShifts/wordsOfSize{}.txt\".format(wordSize)\n",
    "if os.path.exists(pathToWordChangesFile):\n",
    "    print (\"File exists. Reading...\")\n",
    "    reader = csv.reader(open(pathToWordChangesFile), delimiter = \"\\t\")\n",
    "    header = next(reader)\n",
    "    for line in reader:\n",
    "        line = dict(zip(header, line))\n",
    "        word = line[\"Word\"]\n",
    "        shifts = set(line[\"Shifts\"].split(\", \"))\n",
    "        wordsToTheirChanges[word] = shifts\n",
    "    print (\"Done.\")\n",
    "else:\n",
    "    os.mkdir(\"./WordShifts\")\n",
    "    print (\"File does not exist. Computing all possible word shifts for words of size {}...\".format(wordSize))\n",
    "    with open(pathToWordChangesFile, \"w\") as out:\n",
    "        \n",
    "        out.write(\"Word\\tShifts\\n\")\n",
    "\n",
    "        for word in dictionaryOfNletterWords:\n",
    "            wordShifts = getAllOneLetterChanges(word, dictionaryOfNletterWords)\n",
    "            wordsToTheirChanges[word] = wordShifts\n",
    "            out.write(\"{w}\\t{s}\\n\".format(w = word, s = \", \".join(wordShifts)))"
   ]
  },
  {
   "cell_type": "code",
   "execution_count": 17,
   "metadata": {},
   "outputs": [],
   "source": [
    "def bfs(startWord, endWord, dictionary):\n",
    "\n",
    "    wordsToPreviousBestWord = {}\n",
    "    seen = set()\n",
    "\n",
    "    wordsToCheck = [startWord]\n",
    "    while len(wordsToCheck) > 0:\n",
    "        \n",
    "        currentWord = wordsToCheck.pop(0)\n",
    "        if currentWord == endWord:\n",
    "            return wordsToPreviousBestWord\n",
    "        seen.add(currentWord)\n",
    "        newWords = wordsToTheirChanges[currentWord].difference(seen).difference(wordsToCheck)\n",
    "        for newWord in newWords:\n",
    "            wordsToCheck.append(newWord)\n",
    "            wordsToPreviousBestWord[newWord] = currentWord\n",
    "\n",
    "        \n",
    "    print (\"Minimum path:\")\n",
    "    currentWord = endWord\n",
    "    while currentWord != startWord:\n",
    "\n",
    "        print (currentWord)\n",
    "        currentWord = wordsToPreviousBestWord[currentWord]\n",
    "    print(currentWord)\n",
    "    \n",
    "    return wordsToPreviousBestWord\n",
    "\n",
    "### Backtrack through the path:\n",
    "def getWordWordLadderFromPath(startWord, endWord, wordsToPreviousBestWord):\n",
    "    print (\"Minimum path:\")\n",
    "    currentWord = endWord\n",
    "    while currentWord != startWord:\n",
    "\n",
    "        print (currentWord)\n",
    "        currentWord = wordsToPreviousBestWord[currentWord]\n",
    "    print(currentWord)"
   ]
  },
  {
   "cell_type": "code",
   "execution_count": 18,
   "metadata": {},
   "outputs": [
    {
     "name": "stdout",
     "output_type": "stream",
     "text": [
      "Minimum path:\n",
      "small\n",
      "stall\n",
      "stale\n",
      "stave\n",
      "seave\n",
      "serve\n",
      "verve\n",
      "varve\n",
      "larve\n",
      "large\n"
     ]
    }
   ],
   "source": [
    "startWord = \"large\"\n",
    "endWord = \"small\"\n",
    "wordsToPreviousBestWord = bfs(startWord, endWord, dictionaryOfNletterWords)\n",
    "getWordWordLadderFromPath(startWord, endWord, wordsToPreviousBestWord)"
   ]
  },
  {
   "cell_type": "code",
   "execution_count": null,
   "metadata": {},
   "outputs": [],
   "source": []
  }
 ],
 "metadata": {
  "kernelspec": {
   "display_name": "Python (general)",
   "language": "python",
   "name": "general"
  },
  "language_info": {
   "codemirror_mode": {
    "name": "ipython",
    "version": 3
   },
   "file_extension": ".py",
   "mimetype": "text/x-python",
   "name": "python",
   "nbconvert_exporter": "python",
   "pygments_lexer": "ipython3",
   "version": "3.7.4"
  }
 },
 "nbformat": 4,
 "nbformat_minor": 2
}
